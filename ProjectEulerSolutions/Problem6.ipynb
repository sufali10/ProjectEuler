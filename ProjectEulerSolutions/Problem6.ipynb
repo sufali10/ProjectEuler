{
 "cells": [
  {
   "cell_type": "markdown",
   "metadata": {},
   "source": [
    "## Problem: \n",
    "\n",
    "The sum of the squares of the first ten natural numbers is, $1^2 + 2^2 + ... + 10^2 = 385.$\n",
    "\n",
    "The square of the sum of the first ten natural numbers is, $(1 + 2 + ... + 10)^2 = 55^2 = 3025.$\n",
    "\n",
    "Hence the difference between the sum of the squares of the first ten natural numbers and the square of the sum is $3025 - 385 = 2640$.\n",
    "\n",
    "Find the difference between the sum of the squares of the first one hundred natural numbers and the square of the sum.\n",
    "\n",
    "## Thought Process:\n",
    "\n",
    "One could compute the solution via a brute force solution. However, from my A-level studies I recall the analytical solutions to the two following summations $S_1, \\space S_2$: \n",
    "\n",
    "$ S_1 = \\sum_{i=1}^{i=n} k = \\frac{n}{2} (n+1) $\n",
    "\n",
    "$ S_2 = \\sum_{i=1}^{i=n} k^2 = \\frac{n}{6} (n+1)(2n+1) $\n",
    "\n",
    "Therefore, the solution is given by $(S_1)^2 - S_2$ "
   ]
  },
  {
   "cell_type": "code",
   "execution_count": 3,
   "metadata": {},
   "outputs": [
    {
     "name": "stdout",
     "output_type": "stream",
     "text": [
      "The difference between the sum of the squares of the first 100 natural numbers and the square of the sum = 25164150\n"
     ]
    }
   ],
   "source": [
    "def SumDifference(n):\n",
    "    'Function finds the difference between the sum of the squares of the first n natural numbers and the square of the sum.' \n",
    "    return int(((n/2)*(2+(n-1)))**2 - int((n/6)*(n+1)*(2*n+1)))\n",
    "\n",
    "print(f\"The difference between the sum of the squares of the first 100 natural numbers and the square of the sum = {SumDifference(100)}\")"
   ]
  }
 ],
 "metadata": {
  "kernelspec": {
   "display_name": "Python 3",
   "language": "python",
   "name": "python3"
  },
  "language_info": {
   "codemirror_mode": {
    "name": "ipython",
    "version": 3
   },
   "file_extension": ".py",
   "mimetype": "text/x-python",
   "name": "python",
   "nbconvert_exporter": "python",
   "pygments_lexer": "ipython3",
   "version": "3.9.6"
  }
 },
 "nbformat": 4,
 "nbformat_minor": 2
}
