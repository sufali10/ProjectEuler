{
 "cells": [
  {
   "cell_type": "markdown",
   "metadata": {},
   "source": [
    "# Problem Statement\n",
    "If we list all the natural numbers below 10 that are multiples of 3 or 5, we get 3, 5, 6, and 9. The sum of these multiples is 23. \n",
    "\n",
    "Find the sum of all the multiples of 3 or 5 below 1000.\n"
   ]
  },
  {
   "cell_type": "markdown",
   "metadata": {},
   "source": [
    "## Thought process: \n",
    "\n",
    "A brute force solution could be to make a list of all of the multiples of 3 below 1000 and then insert into this list the multiples of 5 below 1000, ensuring no duplicates are inserted. \n",
    "\n",
    "# Solution:"
   ]
  },
  {
   "cell_type": "code",
   "execution_count": 1,
   "metadata": {
    "trusted": false
   },
   "outputs": [
    {
     "name": "stdout",
     "output_type": "stream",
     "text": [
      "The sum of all the multiples of 3 or 5 below 1000 is 233168.\n"
     ]
    }
   ],
   "source": [
    "multiples_of_3 = [i for i in range(1,1000) if i%3==0] # List all multiples of 3 below 1000\n",
    "multiples_of_5_not_3 = [i for i in range(1,1000) if i%5==0 and i%3!=0] # List all multiples of 5 below 1000 that are not multiples of 3 \n",
    "multiples_of_3_or_5 = multiples_of_3 + multiples_of_5_not_3 # Combine the two above lists to obtain the list of all multiples of 3 or 5 below 1000\n",
    "multiples_of_3_or_5.sort() # Sort in ascending order \n",
    "print(f'The sum of all the multiples of 3 or 5 below 1000 is {sum(multiples_of_3_or_5)}.') # Solution statement"
   ]
  },
  {
   "cell_type": "markdown",
   "metadata": {},
   "source": [
    "This problem is simple, however I notice that this solution is a particular solution of a general problem, so will now try to solve the general problem and also try to determine a more elegant solution, if it exists. \n",
    "\n",
    "# Revised Problem Statement: \n",
    "\n",
    "Determine a function to compute the general solution of the sum of all multiples of $i$ or $j$ below $N$. Where $i$ < $j$ < $N$ and $i$, $j$ and $N$ are natural numbers. \n",
    "\n",
    "Using this general solution, find the particular solution for $i$ = 3, $j$ = 5 and $N$ = 1000.\n",
    "\n",
    "### Thought process:\n",
    " \n",
    "A more elegant solution would involve no 'for loops'. \n",
    "\n",
    "I know that there are analytical solutions to compute the summation of natural numbers, perhaps these can be used in place of the 'for loops'. \n",
    "\n",
    "Denote the set of multiples of $k \\in \\mathbb{N}\\ $ as $M_k$ \n",
    "\n",
    "Denote the sum of the elements of $M_k$ that are below $N$ as $S^{M_k}_N$. \n",
    "\n",
    "Denote the number of terms in $S^{M_k}_N$ as $n_{M_k}$ \n",
    "\n",
    "$\\therefore n_{M_k} = floor(\\frac{N-1}{k})$ \n",
    "\n",
    "$\\therefore S^{M_k}_N = \\frac{n_{M_k}}{2} (2k + (n_{M_k}-1)k)$\n",
    "\n",
    "$\\therefore$ the sum of all multiples of $i$ or $j$ below $N$ is given by,\n",
    "\n",
    "$S^{M_i \\cup M_j}_{N} =  S^{M_i}_{N} + S^{M_j}_{N} - S^{M_i \\cap M_j}_{N}$\n",
    " \n",
    "The subtraction with the term $S^{M_i \\cap M_j}_{N}$ is to subtract the common multiples that would be included twice in the terms of $S^{M_i}_{N}+S^{M_j}_{N}$. \n",
    "\n",
    "Note that if $i$ and $j$ are co-prime, then $n_{M_i \\cap M_j} = \\frac{N-1}{ij}$, however, if $j \\in M_i$, then $S^{M_j}_{N} = S^{M_i \\cap M_j}_{N} \\implies S^{M_i \\cup M_j}_{N} = S^{M_i}_{N}$"
   ]
  },
  {
   "cell_type": "markdown",
   "metadata": {},
   "source": [
    "## Solution:"
   ]
  },
  {
   "cell_type": "markdown",
   "metadata": {},
   "source": [
    "### Function to compute the general solution of the sum of the multiples if $i$ or $j$, which are co-prime, and are below $N$:"
   ]
  },
  {
   "cell_type": "code",
   "execution_count": 2,
   "metadata": {
    "trusted": false
   },
   "outputs": [],
   "source": [
    "def sum_of_multiples_of_i_or_j_below_N_(i,j,N):\n",
    "    f'Function which returns the sum of all multiples of i or j below N, for i and j being co-prime, using analytical solution of the sum of an arithmetic sequence'\n",
    "    n_i = int((N-1)/i) # Number of multiples of i below N \n",
    "    n_j = int((N-1)/j) # Number of multiples of j below N\n",
    "    n_i_j = int((N-1)/(j*i)) # Number of common multiples of i and j below N\n",
    "    return      (n_i/2 * (2*i + (n_i -1)*i) # Sum of all the multiples of i below N\n",
    "             +  (n_j/2 * (2*j + (n_j-1)*j)) # Sum of all the multiples of j below N\n",
    "             -  (n_i_j/2 * (2*(j*i) + (n_i_j -1)*(j*i)))) # Sum of all common multiples of i and j below N"
   ]
  },
  {
   "cell_type": "markdown",
   "metadata": {},
   "source": [
    "### Particular solution for $i=3, j=5$ and $N=1000$:"
   ]
  },
  {
   "cell_type": "code",
   "execution_count": 3,
   "metadata": {
    "trusted": false
   },
   "outputs": [
    {
     "name": "stdout",
     "output_type": "stream",
     "text": [
      "The sum of all the multiples of 3 or 5 below 1000 is 233168.\n"
     ]
    }
   ],
   "source": [
    "print(f'The sum of all the multiples of 3 or 5 below 1000 is {sum_of_multiples_of_i_or_j_below_N_(3,5,1000)}.')"
   ]
  }
 ],
 "metadata": {
  "kernelspec": {
   "display_name": "Python 3",
   "language": "python",
   "name": "python3"
  },
  "language_info": {
   "codemirror_mode": {
    "name": "ipython",
    "version": 3
   },
   "file_extension": ".py",
   "mimetype": "text/x-python",
   "name": "python",
   "nbconvert_exporter": "python",
   "pygments_lexer": "ipython3",
   "version": "3.9.6"
  },
  "vscode": {
   "interpreter": {
    "hash": "c38e98e064b9e3235a3303a29ba55fb5910d528e160c013671f671f4a83dc2ce"
   }
  }
 },
 "nbformat": 4,
 "nbformat_minor": 2
}
