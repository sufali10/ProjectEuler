{
 "cells": [
  {
   "cell_type": "markdown",
   "metadata": {},
   "source": [
    "## Problem Statement: \n",
    "\n",
    "The prime factors of are $5$, $7$, $13$ and $29$.\n",
    "\n",
    "What is the largest prime factor of the number $600851475143$?\n",
    "\n",
    "## Thought Process:\n",
    "\n",
    "For a number, $N$, the largest factor pair is $(N,1)$. Since the smallest possible factor of any number, other than $1$, is $2$, if one iterates from $2$ through the consecutive integers and divides this by N, then one can find the next largest factor of $N$. Repeating this process for each of the consecutive largest factors found until one finds a factor for which there are no other divisors other than itself, then one will have found the largest prime factor of $N$. \n",
    "\n",
    "## Solution:"
   ]
  },
  {
   "cell_type": "code",
   "execution_count": 4,
   "metadata": {},
   "outputs": [
    {
     "name": "stdout",
     "output_type": "stream",
     "text": [
      "Largest prime factor of 600851475143 = 6857\n"
     ]
    }
   ],
   "source": [
    "# Define function to find largest prime factor of a given integer\n",
    "def LargestPrimeFactorOf(N):\n",
    "    'Function which returns the largest prime factor of N' \n",
    "    largest_factor_found = N # define the largest factor found variable and set the initial value as N \n",
    "    possible_factor = 2 # define the possible factor variable and set it's default value as 2 (this is always a prime factor that is smaller than or equal to the largest prime factor)\n",
    "    while largest_factor_found!=possible_factor: # iterate till the possible factor is not equal to the largest factor found \n",
    "        if largest_factor_found%possible_factor==0: # if possible factor is a factor of largest factor found \n",
    "            largest_factor_found = largest_factor_found/possible_factor # update the largest possible factor \n",
    "            possible_factor = 2 # reset the possible factor variable to it's default value \n",
    "        else: # if possible factor is not a factor of the largest factor found \n",
    "            possible_factor += 1 # increment possible factor by 1 until a factor is found \n",
    "    largest_prime_factor = int(largest_factor_found) # set largest prime factor variable equal to the final largest factor found \n",
    "    return largest_prime_factor \n",
    "\n",
    "print(f\"Largest prime factor of 600851475143 = {LargestPrimeFactorOf(600851475143)}\")"
   ]
  }
 ],
 "metadata": {
  "kernelspec": {
   "display_name": "Python 3",
   "language": "python",
   "name": "python3"
  },
  "language_info": {
   "codemirror_mode": {
    "name": "ipython",
    "version": 3
   },
   "file_extension": ".py",
   "mimetype": "text/x-python",
   "name": "python",
   "nbconvert_exporter": "python",
   "pygments_lexer": "ipython3",
   "version": "3.9.6"
  }
 },
 "nbformat": 4,
 "nbformat_minor": 2
}
