{
 "cells": [
  {
   "cell_type": "markdown",
   "metadata": {},
   "source": [
    "## Problem Statement: \n",
    "\n",
    "By listing the first six prime numbers: $2, 3, 5, 7, 11$, and $13$, we can see that the $6^{th}$ prime is $13$.\n",
    "\n",
    "What is the $10,001^{st}$ prime number?\n",
    "\n",
    "## Thought Process: \n",
    "\n",
    "Since there is no analytical solution to obtaining the $n^{th}$ prime number, one has to then use an efficient brute force solution to find all prime numbers in order up to the $10,001^{st}$ prime. The challenge in efficiency will be in efficiently determining a prime number. Since all integers greater than 1 are a product of prime numbers less than or equal to the integer, then the most efficient solution in determining whether an integer $N$ is a prime number is to check the divisibility of $N$ with all prime numbers less than $N$, and so $N$ is prime if $N$ is not divisible by all of them. Also, since all prime number's are odd, then to check for the next prime number one could check every 2 consecutive integers at a time. \n",
    "\n",
    "## Solution: "
   ]
  },
  {
   "cell_type": "code",
   "execution_count": 1,
   "metadata": {},
   "outputs": [
    {
     "name": "stdout",
     "output_type": "stream",
     "text": [
      "The 10,001st prime number is 104743\n"
     ]
    }
   ],
   "source": [
    "def PrimeNumberInPosition(n):\n",
    "    f'Function to return the {n}th prime number'\n",
    "    prime_number_list = [2,3] # Set list for prime numbers, entering the initial prime number  \n",
    "    i = 2 # Addition variable to obtain the next odd integer after the last prime number in the prime number list \n",
    "    while len(prime_number_list) != n: # Until the nth prime number is found \n",
    "        next_possible_prime_number = prime_number_list[-1] + i # Variable for the next possible prime number \n",
    "        if all(next_possible_prime_number%prime_number != 0 for prime_number in prime_number_list) == True: # Condition for verifying if the possible prime number is a prime number \n",
    "            prime_number_list.append(next_possible_prime_number) # Append the next prime number to the prime number list \n",
    "            i = 2 # Reset the addition variable to 2\n",
    "        else:\n",
    "            i += 2 # Increase the addition variable by 2 until the next prime number is found \n",
    "    return prime_number_list[-1]\n",
    "\n",
    "print(f\"The 10,001st prime number is {PrimeNumberInPosition(10001)}\")"
   ]
  }
 ],
 "metadata": {
  "kernelspec": {
   "display_name": "Python 3",
   "language": "python",
   "name": "python3"
  },
  "language_info": {
   "codemirror_mode": {
    "name": "ipython",
    "version": 3
   },
   "file_extension": ".py",
   "mimetype": "text/x-python",
   "name": "python",
   "nbconvert_exporter": "python",
   "pygments_lexer": "ipython3",
   "version": "3.9.6"
  }
 },
 "nbformat": 4,
 "nbformat_minor": 2
}
