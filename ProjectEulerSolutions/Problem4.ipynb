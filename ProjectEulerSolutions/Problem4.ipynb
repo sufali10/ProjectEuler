{
 "cells": [
  {
   "cell_type": "markdown",
   "metadata": {},
   "source": [
    "## Problem Statement: \n",
    "\n",
    "Find the largest palindrome made from the product of two 3-digit numbers.\n",
    "\n",
    "## Thought Process:\n",
    "\n",
    "To find the largest palindrome made from the product of two three-digit numbers, one could iterate through all possible combinations of 3 digit numbers, create string representations of the product of each combination, and check if the string representation of the product is a palindrome, and then only store palindromes found that are larger than the previous one found. At the end of this iterative process, the largest palindrome made from the product of two three-digit numbers would have been found.\n",
    "\n",
    "## Solution:"
   ]
  },
  {
   "cell_type": "code",
   "execution_count": 1,
   "metadata": {},
   "outputs": [
    {
     "name": "stdout",
     "output_type": "stream",
     "text": [
      "Largest palindrome made from the product of two three-digit numbers = 906609, being the product of 913 and 993\n"
     ]
    }
   ],
   "source": [
    "palindrome = 0 # Variable to store palindromes found, set initial value to 0 (arbitrary choice)\n",
    "first_three_digit_num = 0 # Variable to store the first three-digit number\n",
    "second_three_digit_num = 0 # Variable to store the second three-digit number \n",
    "\n",
    "# Iterate through all first three-digit numbers \n",
    "for i in range(99,1000):\n",
    "    # Iterate through all second three-digit numbers\n",
    "    for j in range (99,1000):\n",
    "        product = i*j # Calculate product of the two three-digit numbers \n",
    "        product_string = f'{product}' # Convert the product into a string \n",
    "        if product_string == product_string[::-1] and product > palindrome: #Only accept palindromes larger than the previous value set to the Palindrome variable \n",
    "            palindrome = product # Update the palindrome variable with a larger palindrome \n",
    "            first_three_digit_num = i # Update the first three digit number variable\n",
    "            second_three_digit_num = j # Update the second three-digit number variable\n",
    "\n",
    "print(f\"Largest palindrome made from the product of two three-digit numbers = {palindrome}, being the product of {first_three_digit_num} and {second_three_digit_num}\")"
   ]
  },
  {
   "cell_type": "markdown",
   "metadata": {},
   "source": [
    "## After thoughts: \n",
    "\n",
    "This is a brute force solution but I cannot seem to think of an analytical method or a more efficient method to solve this, I would appreciate such suggestions. "
   ]
  }
 ],
 "metadata": {
  "kernelspec": {
   "display_name": "Python 3",
   "language": "python",
   "name": "python3"
  },
  "language_info": {
   "codemirror_mode": {
    "name": "ipython",
    "version": 3
   },
   "file_extension": ".py",
   "mimetype": "text/x-python",
   "name": "python",
   "nbconvert_exporter": "python",
   "pygments_lexer": "ipython3",
   "version": "3.9.6"
  }
 },
 "nbformat": 4,
 "nbformat_minor": 2
}
