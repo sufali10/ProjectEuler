{
 "cells": [
  {
   "cell_type": "markdown",
   "metadata": {},
   "source": [
    "# Problem Statement\n",
    "\n",
    "By considering the terms in the Fibonacci sequence whose values do not exceed four million, find the sum of the even-valued terms.\n",
    "\n",
    "## Thought process\n",
    "\n",
    "A brute force solution could be to make a list of all of the terms in the Fibonacci sequence below four million and then sum only the even valued terms. The brute force solution will be inefficient due to memory usage and a non-optimal time complexity (of **O(2n)**). To make this efficient, one could only keep a list of the last two terms in the fibonacci sequence since they are only relevent to obtain the next term. This will then allow one to add each of the even-valued terms as one goes along the Fibonacci sequence, therefore minimising memeory usage and the time complexity of the solution being reduced to **O(n)**. \n",
    "\n",
    "Also an additional challenge would be to find the function that returns the sum of the even-valued terms in the Fibonacci sequence below $ N : N \\in \\mathbb{N}\\ , N \\geq 2 $ \n",
    "\n",
    "## General Solution"
   ]
  },
  {
   "cell_type": "code",
   "execution_count": 1,
   "metadata": {},
   "outputs": [],
   "source": [
    "def SumEvenTermsFibonnaciUpTo(N):\n",
    "    'Function which returns the sum of the even valued terms of the Fibonacci sequence up to and including N.'\n",
    "    fibonacci_seq = [1,2] # Initialise Fibonacci sequence list and insert first two terms in order\n",
    "    sum_of_even_valued_terms = 2 # Initialise value of the sum of the even-valued terms that exist in the initial state of the Fibonacci sequence list \n",
    "    next_term = fibonacci_seq[-2] + fibonacci_seq[-1] # Initialise next term of the Fibonacci sequence from the initial state of the Fibonacci sequence list\n",
    "    while next_term <= N: # To obtain terms in Fibonacci sequence whose values do not exceed N \n",
    "        fibonacci_seq.append(next_term) # Update Fibonacci sequence container with the next term \n",
    "        next_term += fibonacci_seq[-2] # Update value of next term of the Fibonacci sequence with the next term relative to current state of Fibonacci sequence list\n",
    "        fibonacci_seq.pop(0) # Only keep the last two terms of the current state of the Fibonacci sequence list to reduce memory usage \n",
    "        if next_term % 2 == 0: # Check if the next term of the Fibonacci sequence is even \n",
    "            sum_of_even_valued_terms += next_term # If the next term of the Fibonacci sequence is even, compute the sum of this term and the current value of the sum of the even valued-terms of the Fibonacci sequence\n",
    "    return sum_of_even_valued_terms # Output the sum of the even valued terms of the Fibonacci sequence up to N"
   ]
  },
  {
   "cell_type": "code",
   "execution_count": 2,
   "metadata": {},
   "outputs": [
    {
     "name": "stdout",
     "output_type": "stream",
     "text": [
      "The sum of the even-valued terms of the Fibonacci sequence whose values do not exceed four million is 4613732\n"
     ]
    }
   ],
   "source": [
    "print(f'The sum of the even-valued terms of the Fibonacci sequence whose values do not exceed four million is {SumEvenTermsFibonnaciUpTo(4*10**6)}')"
   ]
  },
  {
   "cell_type": "markdown",
   "metadata": {},
   "source": [
    "## After Thoughts \n",
    "I was thinking if an even more efficient solution could be obtained through an analytical solution however after deconstructing the terms of the Fibonacci sequence and having searched online for any hints, there doesn't seem to be any analytical solution for the sum of the n terms of the Fibonacci sequence.\n",
    "\n",
    "However, one could further extend this problem to a more general problem that moves away from the Fibonacci sequence, and instead considers the sequence $G$ with the $n^{th}$ term of $G$ denoted by $g_{n} \\in \\mathbb{N}: g_n = g_{n-1} + g_{n-2} : n \\in \\mathbb{N}, n \\geq 2, g_{0}<g_{1}$, with $g_{0}$ and $g_{1}$ set to distinct arbitrary integers. \n",
    "\n",
    "Also one could consider further generalise the problem by not just considering the even-valued terms in the sum but rather the terms that are multiples of $k < max(G)$ (maximum term of $G$). \n",
    "\n",
    "# Revised Problem Statement\n",
    "\n",
    "Consider the sequence $G$ with the $n^{th}$ term of $G$ denoted by $g_{n} \\in \\mathbb{N}: g_n = g_{n-1} + g_{n-2} : n \\in \\mathbb{N}, n \\geq 2, g_{0}<g_{1}$, with $g_{0}$ and $g_{1}$ set to distinct arbitrary integers. Find $S(N,g_0,g_1,k)$ which equals the sum of the terms of $G$ with values that are multiples of $k < max(G)$ below $N \\in \\mathbb{N}$ "
   ]
  },
  {
   "cell_type": "code",
   "execution_count": 3,
   "metadata": {},
   "outputs": [],
   "source": [
    "def SumMultiplesOfKTermsOfGUpToN(N,g_0,g_1,k):\n",
    "    'Function which returns the sum of the terms of G, that are multiples of k, up to and including N.'\n",
    "    G = [g_0,g_1] # Initialise G list and insert first two terms in order\n",
    "    sum_of_multiple_of_k_terms = sum([g for g in G if g%k==0]) # Initialise value of the sum of the terms that exist in the initial state of the G list that are mutliples of k\n",
    "    next_term = G[-2] + G[-1] # Initialise next term of G from the initial state of the G list\n",
    "    while next_term <= N: # To obtain terms in G whose values do not exceed N \n",
    "        G.append(next_term) # Update G container with the next term \n",
    "        next_term += G[-2] # Update value of next term of the G with the next term relative to current state of G list\n",
    "        G.pop(0) # Only keep the last two terms of the current state of the G list to reduce memory usage \n",
    "        if next_term % k == 0: # Check if the next term of G is even \n",
    "            sum_of_multiple_of_k_terms += next_term # If the next term of the  G is a multiple of k, compute the sum of this term and the current value of the sum of the terms of G that are multiples of k\n",
    "    return sum_of_multiple_of_k_terms # Output the sum of the terms of G, that are multiples of k,  up to N"
   ]
  },
  {
   "cell_type": "markdown",
   "metadata": {},
   "source": [
    "Apply solution from revised problem statement to the original problem statement, i.e. solve for sequence $G$ with $g_0=1$, $g_1=2$, $k=2$ and $N=4,000,000$:"
   ]
  },
  {
   "cell_type": "code",
   "execution_count": 4,
   "metadata": {},
   "outputs": [
    {
     "name": "stdout",
     "output_type": "stream",
     "text": [
      "According to the generalised solution, the sum of the even-valued terms of the Fibonacci sequence whose values do not exceed four million is 4613732\n",
      "Therefore, the generalised solution matches the original solution\n"
     ]
    }
   ],
   "source": [
    "print(f'According to the generalised solution, the sum of the even-valued terms of the Fibonacci sequence whose values do not exceed four million is {SumMultiplesOfKTermsOfGUpToN(4*10**6,1,2,2)}')\n",
    "\n",
    "if SumMultiplesOfKTermsOfGUpToN(4*10**6,1,2,2) == SumEvenTermsFibonnaciUpTo(4*10**6): \n",
    "    verification_statement = 'matches' \n",
    "else:\n",
    "    verification_statement = 'does not match'\n",
    "\n",
    "print(f'Therefore, the generalised solution {verification_statement} the original solution')"
   ]
  },
  {
   "cell_type": "markdown",
   "metadata": {},
   "source": [
    "## Additional Testing:\n",
    "\n",
    "Try applying the generalised solution to obtain $S(N,g_0,g_1,k)$ for different combinations of $N$, $g_0$, $g_1$ and $k$:"
   ]
  },
  {
   "cell_type": "code",
   "execution_count": 10,
   "metadata": {},
   "outputs": [
    {
     "name": "stdout",
     "output_type": "stream",
     "text": [
      "For sequence G with first term: 2, second term: 4, the sum of the terms of G whose values are multiples of 4 and do not exceed 100 is 88\n",
      "For sequence G with first term: 4, second term: 6, the sum of the terms of G whose values are multiples of 9 and do not exceed 1000 is 288\n",
      "For sequence G with first term: 6, second term: 8, the sum of the terms of G whose values are multiples of 8 and do not exceed 10000 is 2888\n",
      "For sequence G with first term: 8, second term: 10, the sum of the terms of G whose values are multiples of 3 and do not exceed 100000 is 45192\n",
      "For sequence G with first term: 10, second term: 12, the sum of the terms of G whose values are multiples of 5 and do not exceed 1000000 is 1499160\n",
      "For sequence G with first term: 12, second term: 14, the sum of the terms of G whose values are multiples of 6 and do not exceed 10000000 is 7969038\n",
      "For sequence G with first term: 14, second term: 16, the sum of the terms of G whose values are multiples of 9 and do not exceed 100000000 is 20575746\n",
      "For sequence G with first term: 16, second term: 18, the sum of the terms of G whose values are multiples of 6 and do not exceed 1000000000 is 788812530\n",
      "For sequence G with first term: 18, second term: 20, the sum of the terms of G whose values are multiples of 7 and do not exceed 10000000000 is 768255950\n",
      "For sequence G with first term: 20, second term: 22, the sum of the terms of G whose values are multiples of 3 and do not exceed 100000000000 is 73875166806\n"
     ]
    }
   ],
   "source": [
    "import random\n",
    "Num_Comb = 10\n",
    "N_list = [1*10**i for i in range(2,2+Num_Comb+1)]\n",
    "g_0_list = [2*i for i in range(1,Num_Comb+1)]\n",
    "g_1_list = [2*(i+1) for i in range(1,Num_Comb+1)]\n",
    "k_list = [random.randint(2,10) for _ in range(Num_Comb)]\n",
    "\n",
    "for i in range(Num_Comb):\n",
    "    print(f'For sequence G with first term: {g_0_list[i]}, second term: {g_1_list[i]}, the sum of the terms of G whose values are multiples of {k_list[i]} and do not exceed {N_list[i]} is {SumMultiplesOfKTermsOfGUpToN(N_list[i],g_0_list[i],g_1_list[i],k_list[i])}')"
   ]
  },
  {
   "cell_type": "markdown",
   "metadata": {},
   "source": [
    "## Potential Future Work \n",
    "\n",
    "Investigate sequences with different values for $N$, $g_0$, $g_1$ and $k$ but have the same value of $S(N,g_0,g_1,k)$.\n",
    "\n",
    "Investigate sequences with different rules for term definitions but having the same rule of summation."
   ]
  }
 ],
 "metadata": {
  "kernelspec": {
   "display_name": "Python 3",
   "language": "python",
   "name": "python3"
  },
  "language_info": {
   "codemirror_mode": {
    "name": "ipython",
    "version": 3
   },
   "file_extension": ".py",
   "mimetype": "text/x-python",
   "name": "python",
   "nbconvert_exporter": "python",
   "pygments_lexer": "ipython3",
   "version": "3.0.0"
  }
 },
 "nbformat": 4,
 "nbformat_minor": 2
}
