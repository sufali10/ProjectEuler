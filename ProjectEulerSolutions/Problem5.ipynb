{
 "cells": [
  {
   "cell_type": "markdown",
   "metadata": {},
   "source": [
    "## Problem Statement: \n",
    "\n",
    "$2520$ is the smallest number that can be divided by each of the numbers from $1$ to $10$ without any remainder.\n",
    "\n",
    "What is the smallest positive number that is evenly divisible by all of the numbers from $1$ to $20$?\n",
    "\n",
    "## Thought Process: \n",
    "\n",
    "We are considering a positive integer, $N$, that is divisbile by all of the integers from $1$ to $20$. \n",
    "\n",
    "Breaking each of these divisors into a product of prime factors, we have:\n",
    "\n",
    "$20 = 2^2 \\times 5$\n",
    "\n",
    "$19 = 19$\n",
    "\n",
    "$18 = 2 \\times 3^2$\n",
    "\n",
    "$17 = 17$\n",
    "\n",
    "$16 = 2^4$\n",
    "\n",
    "$15 = 3 \\times 5$\n",
    "\n",
    "$14 = 2 \\times 7$\n",
    "\n",
    "$13 = 13$\n",
    "\n",
    "$12 = 2^2 \\times 3$\n",
    "\n",
    "$11 = 11$\n",
    "\n",
    "$10 = 2 \\times 5$\n",
    "\n",
    "$9 = 3^2$\n",
    "\n",
    "$8 = 2^3$\n",
    "\n",
    "$7 = 7$\n",
    "\n",
    "$6 = 2 \\times 3$\n",
    "\n",
    "$5 = 5$\n",
    "\n",
    "$4 = 2^2$\n",
    "\n",
    "$3 = 3$\n",
    "\n",
    "$2 = 2$\n",
    "\n",
    "$1 = 1$\n",
    "\n",
    "Define set $\\mathbb{D} : d_i \\in \\mathbb{D}: 1<d_i \\leq 20: 1<i\\leq n$, where $n < 20, n \\in \\mathbb{N}$ is the number of elements of $\\mathbb{D}$. $\\{d_i\\}$ are elements which are the minimum amount of largest integers from $1$ to $20$ such that $\\prod_{i=1}^{i=n} d_i$ has factors that include all of the integers from $1$ to $20$. \n",
    "\n",
    "$\\therefore N = \\prod_{i=1}^{i=n} d_i$ \n",
    "\n",
    "Define set $\\mathbb{F}$ as the set of factors of the multiplication of all elements in $\\mathbb{D}$.\n",
    "\n",
    "Therefore, let us construct $\\mathbb{D}$, whilst stating the state of $\\mathbb{F}$ after each addition of an element into $\\mathbb{D}$. \n",
    "\n",
    "$\\mathbb{D} = \\{20\\} \\implies \\mathbb{F} = \\{1,2,4,5,10,20\\}$\n",
    "\n",
    "$\\mathbb{D} = \\{20,19\\} \\implies \\mathbb{F} = \\{1,2,4,5,10,19,20\\}$\n",
    "\n",
    "$\\mathbb{D} = \\{20,19,18\\} \\implies \\mathbb{F} = \\{1,2,3,4,5,6,8,9,10,12,15,18,19,20\\}$\n",
    "\n",
    "$\\mathbb{D} = \\{20,19,18,17\\} \\implies \\mathbb{F} = \\{1,2,3,4,5,6,8,9,10,12,15,17,18,19,20\\}$\n",
    "\n",
    "$\\mathbb{D} = \\{20,19,18,17,14\\} \\implies \\mathbb{F} = \\{1,2,3,4,5,6,7,8,9,10,12,14,15,16,17,18,19,20\\}$\n",
    "\n",
    "$\\mathbb{D} = \\{20,19,18,17,14,13,11\\} \\implies \\mathbb{F} = \\{1,2,3,4,5,6,7,8,9,10,11,12,13,14,15,16,17,18,19,20\\}$\n",
    "\n",
    "Since $\\mathbb{F}$ contains all integers between $1$ to $20$ $\\implies$ the completed set of $\\mathbb{D}$ is given by $\\{20,19,18,17,14,13,11\\}$. \n",
    "\n",
    "Please see relevant workings in iPad to visualise this justification. \n",
    "\n",
    "$\\therefore N = 20 \\times 19 \\times 18 \\times 17 \\times 14 \\times 13 \\times 11$"
   ]
  },
  {
   "cell_type": "code",
   "execution_count": 4,
   "metadata": {},
   "outputs": [
    {
     "name": "stdout",
     "output_type": "stream",
     "text": [
      "The smallest natural number that is evenly divisible by the integers between 1 and 20 = 232792560\n"
     ]
    }
   ],
   "source": [
    "N = 20*19*18*17*14*13*11\n",
    "print(f\"The smallest natural number that is evenly divisible by the integers between 1 and 20 = {N}\")"
   ]
  }
 ],
 "metadata": {
  "kernelspec": {
   "display_name": "Python 3",
   "language": "python",
   "name": "python3"
  },
  "language_info": {
   "codemirror_mode": {
    "name": "ipython",
    "version": 3
   },
   "file_extension": ".py",
   "mimetype": "text/x-python",
   "name": "python",
   "nbconvert_exporter": "python",
   "pygments_lexer": "ipython3",
   "version": "3.9.6"
  }
 },
 "nbformat": 4,
 "nbformat_minor": 2
}
