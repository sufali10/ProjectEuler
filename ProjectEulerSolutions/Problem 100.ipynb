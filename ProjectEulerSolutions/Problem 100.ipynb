{
 "cells": [
  {
   "cell_type": "markdown",
   "metadata": {},
   "source": [
    "## Problem Statement: \n",
    "\n"
   ]
  },
  {
   "cell_type": "markdown",
   "metadata": {},
   "source": [
    "## Initial thoughts: \n",
    "\n",
    "Denote the number of blue discs as $b$ and the total number of discs as $T$, then we have the following: \n",
    "\n",
    "$\\frac{1}{2}$ = $\\frac{b(b-1)}{T (T-1)}  : (1)$ \n",
    "\n",
    "$\\therefore b^2 - b - \\frac{T(T-1)}{2} = 0  : (2)$ \n",
    "\n",
    "$\\therefore b = \\frac{1 + \\sqrt{1+2T(T-1)}}{2}  : (3)$  \n",
    "\n",
    "From this we can perhaps try a brute force approach where we try to iterate through values of $ T > 10^{12}$ and find the first integer solution. However, upon trying this my computer was crashing as there were too many iterations to go through, so I quickly realised the brute force solution is definitely not a viable solution. \n",
    "## After further reading\n",
    "After some reading on google on trying to methods of finding integer solutions to quadratic functions, I came across diophantine equations for the first time, specifically Pell's equation and it's recurrence relation solution. Therefore, I decided to transform $(2)$ into a form equivalent to Pell's equation, given by the following steps: \n",
    "\n",
    "$b^2 - b - \\frac{T(T-1)}{2} = 0 \\implies 2(b-\\frac{1}{2})^2 - \\frac{1}{4} = (T- \\frac{1}{2})^2$\n",
    "\n",
    "Let $\\frac{u}{2} = b - \\frac{1}{2}$ and $\\frac{v}{2} = T - \\frac{1}{2}$\n",
    "\n",
    "$\\therefore v^2 - 2u^2 = -1 : (4)$\n",
    "\n",
    "$\\therefore (v + u\\sqrt{2})(v - u\\sqrt{2}) = -1 : (5)$\n",
    "\n",
    "Equation $(4)$ is the negative Pell's equation with $D=2$.\n",
    "\n",
    "The fundamental solution of $(4)$ can be observed to be given by $(v_f,u_f) = (1,1)$ and since equation $(4)$ is an negative Pell's equation, the integer solutions of $(4)$ are generated using the following recurrence relation:\n",
    "\n",
    "$v_n + u_n\\sqrt{2} = (v_f+u_f\\sqrt{2})^{2n+1}: n \\in \\mathbb{N}$\n",
    "\n",
    "i.e. $v_n + u_n\\sqrt{2} = (1+\\sqrt{2})^{2n+1}$\n",
    "\n",
    "$\\therefore v_{n+1} + u_{n+1}\\sqrt{2} = (1+\\sqrt{2})^{2(n+1)+1}$\n",
    "\n",
    "$\\therefore v_{n+1} + u_{n+1}\\sqrt{2} = (1+\\sqrt{2})^{2n+1} (1+\\sqrt{2})^{2}$\n",
    "\n",
    "$\\therefore v_{n+1} + u_{n+1}\\sqrt{2} = (v_n + u_n\\sqrt{2})(3+2\\sqrt{2})$\n",
    "\n",
    "$\\therefore v_{n+1} + u_{n+1}\\sqrt{2} = (3v_n + 4u_n) + (2v_n + 3u_n)\\sqrt{2}$\n",
    "\n",
    "$\\therefore v_{n+1} = 3v_{n} + 4u_{n}, u_{n+1} = 2v_{n} + 3u_{n}$ \n",
    "\n",
    "Now finally relating this back to the number of blue discs, $b$, and the total number of disks, $T$, we firstly have:\n",
    "\n",
    "$b_{n+1} = \\frac{u_{n+1}+1}{2}, T_{n+1} = \\frac{v_{n+1}+1}{2}$ and $u_n = 2b_n - 1, v_n = 2T_n - 1$\n",
    "\n",
    "$\\therefore b_{n+1} = \\frac{2(2T_n - 1) + 3(2b_n - 1) + 1}{2}, T_{n+1} = \\frac{3(2T_n -1) + 4(2b_n -1) + 1}{2}$\n",
    "\n",
    "$\\therefore b_{n+1} = 3b_n + 2T_n - 2, T_{n+1} = 4b_n + 3T_n -3$\n",
    "\n",
    "So now the recurrence relations for generating the integer solutions of $(2)$ have been obtained and thus we can obtain the solution to the problem by starting from the fundamental solution which is $(b_f,T_f)=(3,4)$\n",
    "\n",
    "## Solution:"
   ]
  },
  {
   "cell_type": "code",
   "execution_count": 1,
   "metadata": {},
   "outputs": [
    {
     "name": "stdout",
     "output_type": "stream",
     "text": [
      "Current solution set: The number of blue discs = 15, total number of discs = 21\n",
      "Current solution set: The number of blue discs = 85, total number of discs = 120\n",
      "Current solution set: The number of blue discs = 493, total number of discs = 697\n",
      "Current solution set: The number of blue discs = 2871, total number of discs = 4060\n",
      "Current solution set: The number of blue discs = 16731, total number of discs = 23661\n",
      "Current solution set: The number of blue discs = 97513, total number of discs = 137904\n",
      "Current solution set: The number of blue discs = 568345, total number of discs = 803761\n",
      "Current solution set: The number of blue discs = 3312555, total number of discs = 4684660\n",
      "Current solution set: The number of blue discs = 19306983, total number of discs = 27304197\n",
      "Current solution set: The number of blue discs = 112529341, total number of discs = 159140520\n",
      "Current solution set: The number of blue discs = 655869061, total number of discs = 927538921\n",
      "Current solution set: The number of blue discs = 3822685023, total number of discs = 5406093004\n",
      "Current solution set: The number of blue discs = 22280241075, total number of discs = 31509019101\n",
      "Current solution set: The number of blue discs = 129858761425, total number of discs = 183648021600\n",
      "Current solution set: The number of blue discs = 756872327473, total number of discs = 1070379110497\n",
      "The first integer set solution for when the total number of discs exceeds 10^12 is given by: The number of blue discs = 756872327473, total number of discs = 1070379110497\n"
     ]
    }
   ],
   "source": [
    "# Define function to calculate the next number of blue discs and total number of disks during the iterative process \n",
    "def calculate_the_next_number_of_blue_discs_and_total_number_of_disks(b,T):\n",
    "    return 3*b + 2*T -2, 4*b + 3*T -3 \n",
    "\n",
    "# Define fundamental solutions as the current solution during the iterative process\n",
    "number_of_blue_discs = 3\n",
    "total_number_of_discs = 4\n",
    "\n",
    "# Execute iterative process to obtain the first set of solutions when total number of discs T > 10^12\n",
    "while total_number_of_discs < 10**12: \n",
    "\n",
    "    # Calculate the next integer solutions in the iterative process\n",
    "    next_number_of_blue_discs, next_total_number_of_discs = calculate_the_next_number_of_blue_discs_and_total_number_of_disks(number_of_blue_discs,total_number_of_discs)\n",
    "     \n",
    "    # Update the current solutions of the iterative process\n",
    "    number_of_blue_discs, total_number_of_discs = next_number_of_blue_discs, next_total_number_of_discs\n",
    "\n",
    "    print(f\"Current solution set: The number of blue discs = {number_of_blue_discs}, total number of discs = {total_number_of_discs}\")\n",
    "\n",
    "# Print solution\n",
    "print(f\"The first integer set solution for when the total number of discs exceeds 10^12 is given by: The number of blue discs = {number_of_blue_discs}, total number of discs = {total_number_of_discs}\")"
   ]
  },
  {
   "cell_type": "markdown",
   "metadata": {},
   "source": [
    "## After thoughts\n",
    "\n",
    "I had no prior experience with diophantine equations, so this problem was challenging in determining the correct course of action on how to obtain integer solutions of equation $(2)$, however after reading up on Pell's equations the path to the solution became a lot more clear. In particular, a big difficulty I faced was figuring out how one should transform equation $(2)$ into Pell's equation. But I really enjoyed the further reading I had to do and the algebraic challenges this question provided, my intuition and understanding about quadratic equations has been improved. I look forward to solving more similar problems. "
   ]
  }
 ],
 "metadata": {
  "kernelspec": {
   "display_name": "Python 3",
   "language": "python",
   "name": "python3"
  },
  "language_info": {
   "codemirror_mode": {
    "name": "ipython",
    "version": 3
   },
   "file_extension": ".py",
   "mimetype": "text/x-python",
   "name": "python",
   "nbconvert_exporter": "python",
   "pygments_lexer": "ipython3",
   "version": "3.9.6"
  }
 },
 "nbformat": 4,
 "nbformat_minor": 2
}
